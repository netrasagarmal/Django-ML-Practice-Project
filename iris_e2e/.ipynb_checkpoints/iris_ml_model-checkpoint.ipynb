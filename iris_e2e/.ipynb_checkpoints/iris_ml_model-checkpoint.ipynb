{
 "cells": [
  {
   "cell_type": "code",
   "execution_count": 1,
   "metadata": {},
   "outputs": [],
   "source": [
    "# Load modules and dependancies library\n",
    "\n",
    "from pandas import read_csv\n",
    "from sklearn.model_selection import train_test_split\n",
    "from sklearn.svm import SVC\n",
    "import pandas as pd\n",
    "from sklearn.metrics import accuracy_score"
   ]
  },
  {
   "cell_type": "code",
   "execution_count": 2,
   "metadata": {},
   "outputs": [],
   "source": [
    "# Load dataset\n",
    "# load the data file as a Pandas data frame and analyze the data\n",
    "\n",
    "df = pd.read_csv(r\"Iris.csv\")"
   ]
  },
  {
   "cell_type": "code",
   "execution_count": 3,
   "metadata": {},
   "outputs": [],
   "source": [
    "# Split-out validation dataset\n",
    "# Split into training data and test data\n",
    "# The training set contains a known output and the model learns on this data in order to be generalized # to other data later on\n",
    "# We have the test dataset (or subset) in order to test our model’s prediction on this subset.\n",
    "\n",
    "X = df[['SepalLengthCm','SepalWidthCm','PetalLengthCm','PetalWidthCm']]\n",
    "y = df['Species']"
   ]
  },
  {
   "cell_type": "code",
   "execution_count": 4,
   "metadata": {},
   "outputs": [],
   "source": [
    "# Now we can use the train_test_split function in order to make the split.\n",
    "# The test_size=0.20 or 0.2 inside the function indicates the percentage of the data that should be \n",
    "# Create training and testing vars, It’s usually around 80/20 or 70/30.\n",
    "\n",
    "X_train, X_test, Y_train, Y_test = train_test_split(X, y, test_size=0.20, random_state=1)"
   ]
  },
  {
   "cell_type": "code",
   "execution_count": 6,
   "metadata": {
    "scrolled": true
   },
   "outputs": [
    {
     "name": "stdout",
     "output_type": "stream",
     "text": [
      "0.9666666666666667\n",
      "Enter sepal_length: 1\n",
      "Enter sepa_width: 2\n",
      "Enter petal_length: 1\n",
      "Enter petal_width: 2\n",
      "\n",
      "\n",
      "\n",
      "-----------------------------------------------\n",
      "['Iris-virginica']\n",
      "\n",
      "\n",
      "\n",
      "-----------------------------------------------\n"
     ]
    }
   ],
   "source": [
    "# Now we’ll fit the model on the training data:\n",
    "# support vector clustering (SVC), select our algorithm\n",
    "\n",
    "model = SVC(gamma='auto')\n",
    "model.fit(X_train, Y_train)\n",
    "\n",
    "# Make predictions on validation dataset\n",
    "# We’re fitting the model on the training data and trying to predict the test data.\n",
    "predictions = model.predict(X_test)\n",
    "\n",
    "# Evaluate predictions\n",
    "print(accuracy_score(Y_test, predictions))\n",
    "\n",
    "# Pickle model \n",
    "# All pandas objects are equipped with to_pickle methods which use Python’s cPickle module to save data # structures to disk using the pickle format.\n",
    "# Save a model in scikit-learn by using Python’s built-in persistence model\n",
    "# Way to persist the model for future use without having to retrain.\n",
    "pd.to_pickle(model,r'new_model.pickle')\n",
    "\n",
    "# Unpickle model \n",
    "model = pd.read_pickle(r'new_model.pickle') \n",
    "# read a pickle pd.read_pickle('model.pkl')\n",
    "\n",
    "# Take input from user\n",
    "sepal_length = float(input(\"Enter sepal_length: \"))\n",
    "sepal_width = float(input(\"Enter sepa_width: \"))\n",
    "petal_length = float(input(\"Enter petal_length: \"))\n",
    "petal_width = float(input(\"Enter petal_width: \"))\n",
    "\n",
    "result = model.predict([[sepal_length,sepal_width,petal_length,petal_width]])  # input must be 2D array\n",
    "print(result)"
   ]
  },
  {
   "cell_type": "code",
   "execution_count": null,
   "metadata": {},
   "outputs": [],
   "source": []
  }
 ],
 "metadata": {
  "kernelspec": {
   "display_name": "Python 3",
   "language": "python",
   "name": "python3"
  },
  "language_info": {
   "codemirror_mode": {
    "name": "ipython",
    "version": 3
   },
   "file_extension": ".py",
   "mimetype": "text/x-python",
   "name": "python",
   "nbconvert_exporter": "python",
   "pygments_lexer": "ipython3",
   "version": "3.9.1"
  }
 },
 "nbformat": 4,
 "nbformat_minor": 4
}
